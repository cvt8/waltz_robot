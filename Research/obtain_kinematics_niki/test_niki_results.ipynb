{
 "cells": [
  {
   "cell_type": "code",
   "execution_count": null,
   "metadata": {},
   "outputs": [
    {
     "ename": "",
     "evalue": "",
     "output_type": "error",
     "traceback": [
      "\u001b[1;31mFailed to start the Kernel. \n",
      "\u001b[1;31mif options.cache_dir else None\n",
      "\u001b[1;31m  File \"/usr/lib64/python3.6/posixpath.py\", line 80, in join\n",
      "\u001b[1;31m    a = os.fspath(a)\n",
      "\u001b[1;31mTypeError: expected str, bytes or os.PathLike object, not int. \n",
      "\u001b[1;31mView Jupyter <a href='command:jupyter.viewOutput'>log</a> for further details."
     ]
    }
   ],
   "source": [
    "import joblib\n",
    "import numpy as np\n",
    "import matplotlib.pyplot as plt"
   ]
  },
  {
   "cell_type": "code",
   "execution_count": null,
   "metadata": {},
   "outputs": [
    {
     "ename": "",
     "evalue": "",
     "output_type": "error",
     "traceback": [
      "\u001b[1;31mFailed to start the Kernel. \n",
      "\u001b[1;31mTypeError: expected str, bytes or os.PathLike object, not int. \n",
      "\u001b[1;31mView Jupyter <a href='command:jupyter.viewOutput'>log</a> for further details."
     ]
    }
   ],
   "source": [
    "results = joblib.load('/home/charles/mva/waltz_robot/src/valse_constantin.pt')\n",
    "print(results.keys())\n",
    "print(results['pred_uvd'].shape)\n",
    "print(results['pred_phi'][200][10])\n",
    "test = results['pred_phi'][0][0]\n",
    "print(test[0]**2 + test[1]**2)"
   ]
  },
  {
   "cell_type": "code",
   "execution_count": null,
   "metadata": {},
   "outputs": [
    {
     "ename": "",
     "evalue": "",
     "output_type": "error",
     "traceback": [
      "\u001b[1;31mFailed to start the Kernel. \n",
      "\u001b[1;31mTypeError: expected str, bytes or os.PathLike object, not int. \n",
      "\u001b[1;31mView Jupyter <a href='command:jupyter.viewOutput'>log</a> for further details."
     ]
    }
   ],
   "source": [
    "print(results['pred_cam_root'].shape)\n",
    "\n",
    "plt.plot(results['pred_cam_root'][:,0])\n",
    "plt.title('x position of the root joint')\n",
    "plt.show()\n",
    "plt.plot(results['pred_cam_root'][:,1])\n",
    "plt.title('y position of the root joint')\n",
    "plt.show()\n",
    "plt.plot(results['pred_cam_root'][:,2])\n",
    "plt.title('z position of the root joint')\n",
    "plt.show()"
   ]
  },
  {
   "cell_type": "code",
   "execution_count": null,
   "metadata": {},
   "outputs": [
    {
     "ename": "",
     "evalue": "",
     "output_type": "error",
     "traceback": [
      "\u001b[1;31mFailed to start the Kernel. \n",
      "\u001b[1;31mTypeError: expected str, bytes or os.PathLike object, not int. \n",
      "\u001b[1;31mView Jupyter <a href='command:jupyter.viewOutput'>log</a> for further details."
     ]
    }
   ],
   "source": [
    "x_pred_cam = results['pred_cam_root'][:,0]\n",
    "y_pred_cam = results['pred_cam_root'][:,1]\n",
    "z_pred_cam = results['pred_cam_root'][:,2]\n",
    "\n",
    "from scipy.signal import savgol_filter\n",
    "# Interpolate the z values to reduce the noise\n",
    "x_pred_cam_f = savgol_filter(x_pred_cam, 100, 3)\n",
    "y_pred_cam_f = savgol_filter(y_pred_cam, 100, 3)\n",
    "z_pred_cam_f = savgol_filter(z_pred_cam, 100, 3)\n",
    "\n",
    "fig, ax = plt.subplots(3, 2, figsize=(10, 10))\n",
    "ax[0, 0].plot(x_pred_cam)\n",
    "ax[0, 0].set_title('x_pred_cam')\n",
    "ax[0, 1].plot(x_pred_cam_f)\n",
    "ax[0, 1].set_title('smoothed x_pred_cam')\n",
    "ax[1, 0].plot(y_pred_cam)\n",
    "ax[1, 0].set_title('y_pred_cam')\n",
    "ax[1, 1].plot(y_pred_cam_f)\n",
    "ax[1, 1].set_title('smoothed y_pred_cam')\n",
    "ax[2, 0].plot(z_pred_cam)\n",
    "ax[2, 0].set_title('z_pred_cam')\n",
    "ax[2, 1].plot(z_pred_cam_f)\n",
    "ax[2, 1].set_title('smoothed z_pred_cam')\n",
    "plt.show()"
   ]
  },
  {
   "cell_type": "code",
   "execution_count": null,
   "metadata": {},
   "outputs": [
    {
     "ename": "",
     "evalue": "",
     "output_type": "error",
     "traceback": [
      "\u001b[1;31mFailed to start the Kernel. \n",
      "\u001b[1;31mTypeError: expected str, bytes or os.PathLike object, not int. \n",
      "\u001b[1;31mView Jupyter <a href='command:jupyter.viewOutput'>log</a> for further details."
     ]
    }
   ],
   "source": [
    "print(results['pred_cam_root'][200])\n",
    "print(results['pred_uvd'][200][10])\n",
    "print(results['pred_xyz_29'][200][10])"
   ]
  },
  {
   "cell_type": "code",
   "execution_count": null,
   "metadata": {},
   "outputs": [
    {
     "ename": "",
     "evalue": "",
     "output_type": "error",
     "traceback": [
      "\u001b[1;31mFailed to start the Kernel. \n",
      "\u001b[1;31mTypeError: expected str, bytes or os.PathLike object, not int. \n",
      "\u001b[1;31mView Jupyter <a href='command:jupyter.viewOutput'>log</a> for further details."
     ]
    }
   ],
   "source": [
    "all_angles = results['pred_phi']\n",
    "joint_variation = np.zeros(23)\n",
    "for joint in range(23):\n",
    "    joint_variation[joint] = np.var(all_angles[:,joint])\n",
    "print(joint_variation)"
   ]
  },
  {
   "cell_type": "code",
   "execution_count": null,
   "metadata": {},
   "outputs": [
    {
     "ename": "",
     "evalue": "",
     "output_type": "error",
     "traceback": [
      "\u001b[1;31mFailed to start the Kernel. \n",
      "\u001b[1;31mTypeError: expected str, bytes or os.PathLike object, not int. \n",
      "\u001b[1;31mView Jupyter <a href='command:jupyter.viewOutput'>log</a> for further details."
     ]
    }
   ],
   "source": [
    "joints_positions = results['pred_xyz_29']\n",
    "\n",
    "# Joint positions are in the form (N, 29, 3) where N is the number of frames\n",
    "# and 29 is the number of joints. The 3 is the x, y, z coordinates of the joints.\n",
    "\n",
    "colors = np.zeros((29, 3))\n",
    "lin = np.linspace(0, 1, 29)\n",
    "for j in range(29):\n",
    "    colors[j] = np.random.rand(3)\n",
    "    # colors[j] = [lin[j], 0, 1 - lin[j]]\n",
    "\n",
    "frame = 0\n",
    "\n",
    "# plot in 3D the positions of the joints of interest\n",
    "fig = plt.figure(figsize=(10, 10))\n",
    "ax = fig.add_subplot(111, projection='3d')\n",
    "joints = joints_positions[frame]\n",
    "joints = joints - joints[0]\n",
    "for j in range(29):\n",
    "    ax.scatter(joints[j, 0], joints[j, 1], joints[j, 2], c=colors[j], label=f'Joint {j}')\n",
    "    \n",
    "ax.legend()\n",
    "plt.show()\n"
   ]
  },
  {
   "cell_type": "markdown",
   "metadata": {},
   "source": [
    "With the above graph we find the joints of interest for the inverse kinematics problem :\n",
    "\n",
    "- Pelvis : 0\n",
    "- Head : 24\n",
    "- Left Hand : 25\n",
    "- Right Hand : 26\n",
    "- Left Foot : 27\n",
    "- Right Foot : 28"
   ]
  }
 ],
 "metadata": {
  "kernelspec": {
   "display_name": "robotics_course",
   "language": "python",
   "name": "python3"
  },
  "language_info": {
   "codemirror_mode": {
    "name": "ipython",
    "version": 3
   },
   "file_extension": ".py",
   "mimetype": "text/x-python",
   "name": "python",
   "nbconvert_exporter": "python",
   "pygments_lexer": "ipython3",
   "version": "3.10.16"
  }
 },
 "nbformat": 4,
 "nbformat_minor": 2
}
